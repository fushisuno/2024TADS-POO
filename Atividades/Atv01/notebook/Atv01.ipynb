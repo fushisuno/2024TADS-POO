{
 "cells": [
  {
   "cell_type": "markdown",
   "id": "a49e99d1-9f68-40a8-a286-903f2fd2251b",
   "metadata": {},
   "source": [
    "# Atv01"
   ]
  },
  {
   "cell_type": "markdown",
   "id": "e3457230-7558-4d89-8970-1e917c6ffc90",
   "metadata": {},
   "source": [
    "# Exiba a mensagem \"Disciplina POO\" usando a estrutura miníma para um código em Java."
   ]
  },
  {
   "cell_type": "code",
   "execution_count": 2,
   "id": "4d1aa8ae-5b25-4e64-b302-407522e905f9",
   "metadata": {
    "tags": []
   },
   "outputs": [
    {
     "name": "stdout",
     "output_type": "stream",
     "text": [
      "Disciplina POO\n"
     ]
    },
    {
     "data": {
      "text/plain": [
       "null"
      ]
     },
     "execution_count": 2,
     "metadata": {},
     "output_type": "execute_result"
    }
   ],
   "source": [
    "//public class Main{\n",
    "    //public static void main(String[] args) {\n",
    "        System.out.println(\"Disciplina POO\");\n",
    "    //}\n",
    "//}\n"
   ]
  },
  {
   "cell_type": "code",
   "execution_count": null,
   "id": "7161a4a7-92a6-4e60-840d-5f3496f5dbec",
   "metadata": {},
   "outputs": [],
   "source": []
  }
 ],
 "metadata": {
  "kernelspec": {
   "display_name": "Java",
   "language": "java",
   "name": "java"
  },
  "language_info": {
   "codemirror_mode": "text/x-java",
   "file_extension": ".java",
   "mimetype": "",
   "name": "Java",
   "nbconverter_exporter": "",
   "version": "1.8.0_121"
  }
 },
 "nbformat": 4,
 "nbformat_minor": 5
}
